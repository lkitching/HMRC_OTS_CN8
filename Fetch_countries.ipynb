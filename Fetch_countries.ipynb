{
 "cells": [
  {
   "cell_type": "markdown",
   "metadata": {},
   "source": [
    "Given the `metadata/countries.json` file created by `Prepare Sources`, fetch each of the referenced linked data resources.\n",
    "\n",
    "We'll just RDFlib to parse the RDF and serialize it back out as one big file.  We could just use `Graph.parse()` to directly fetch and parse the source data, but to cache the response, we'll fetch the RDF and put it in the `in` folder if it's not there already."
   ]
  },
  {
   "cell_type": "code",
   "execution_count": null,
   "metadata": {},
   "outputs": [],
   "source": [
    "import json\n",
    "import requests\n",
    "from pathlib import Path\n",
    "from rdflib import Graph\n",
    "\n",
    "countries_json = Path('metadata') / 'countries.json'\n",
    "\n",
    "countries = json.load(open('metadata/countries.json'))\n",
    "countriesGraph = Graph()\n",
    "\n",
    "sourceFolder = Path('in')\n",
    "sourceFolder.mkdir(exist_ok=True)\n",
    "\n",
    "for country, tgn_list in list(countries.items()):\n",
    "    if len(tgn_list) > 0:\n",
    "        tgn_id = tgn_list[0][len('http://vocab.getty.edu/tgn/'):]\n",
    "        sourceFile = sourceFolder / (tgn_id + '.ttl')\n",
    "        if not(sourceFile.exists() and sourceFile.is_file()):\n",
    "            response = requests.get(tgn_list[0], headers={'Accept': 'text/turtle'})\n",
    "            with open(sourceFile, 'wb') as f:\n",
    "                f.write(response.content)\n",
    "        countriesGraph.parse(open(sourceFile), format='turtle')\n",
    "\n",
    "destinationFolder = Path('out')\n",
    "destinationFolder.mkdir(exist_ok=True)\n",
    "\n",
    "countries_ttl = destinationFolder / 'countries.ttl'\n",
    "with open(countries_ttl, 'wb') as o:\n",
    "    countriesGraph.serialize(destination=o, format='turtle')"
   ]
  },
  {
   "cell_type": "code",
   "execution_count": null,
   "metadata": {},
   "outputs": [],
   "source": []
  }
 ],
 "metadata": {
  "kernelspec": {
   "display_name": "Python 3",
   "language": "python",
   "name": "python3"
  },
  "language_info": {
   "codemirror_mode": {
    "name": "ipython",
    "version": 3
   },
   "file_extension": ".py",
   "mimetype": "text/x-python",
   "name": "python",
   "nbconvert_exporter": "python",
   "pygments_lexer": "ipython3",
   "version": "3.6.4"
  }
 },
 "nbformat": 4,
 "nbformat_minor": 2
}
