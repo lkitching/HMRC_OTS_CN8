{
 "cells": [
  {
   "cell_type": "markdown",
   "metadata": {},
   "source": [
    "# Prepare Sources\n",
    "\n",
    "The HMRC provide overseas trade statistics broken down by country and commoditiy code using the Combined Nomenclature \"CN8\" 8 digit codes.\n",
    "\n",
    "These statistics have been obtained as a series of CSV files as \"Tidy Data\".\n",
    "\n",
    "However, some preparation is necessary in order to process these files using the table2qb utility.\n",
    "\n",
    "Firstly, fetch the source data, in this case from a shared (open) Google drive.\n",
    "\n",
    "We also keep track of the processing and the provenance of the inputs and outputs using W3C Prov."
   ]
  },
  {
   "cell_type": "code",
   "execution_count": 1,
   "metadata": {},
   "outputs": [],
   "source": [
    "from datetime import datetime\n",
    "import json\n",
    "from pytz import timezone\n",
    "from os import environ\n",
    "\n",
    "provActivity = {\n",
    "    '@id': environ.get('BUILD_URL', 'unknown-build') + \"#prepare_sources\",\n",
    "    '@type': 'activity',\n",
    "    'startedAtTime': datetime.now(timezone('Europe/London')).isoformat(),\n",
    "    'label': 'Prepare sources',\n",
    "    'comment': 'Jupyter Python notebook as part of Jenkins job %s' % environ.get('JOB_NAME', 'unknown-job')\n",
    "}"
   ]
  },
  {
   "cell_type": "code",
   "execution_count": 2,
   "metadata": {},
   "outputs": [],
   "source": [
    "import requests\n",
    "from pathlib import Path\n",
    "\n",
    "provSources = []\n",
    "\n",
    "sourceFolder = Path('in')\n",
    "sourceFolder.mkdir(exist_ok=True)\n",
    "\n",
    "sources = [\n",
    "    ('CN8_Non-EU_cod_2012.csv', '1P7YyFF6qXKXWVtR0Vt3kkvFPOjThMQH8'),\n",
    "    ('CN8_Non-EU_cod_2013.csv', '1de-Le9ungrbdoGyvWI_RwmEhNpTmR-70'),\n",
    "    ('CN8_Non-EU_cod_2014.csv', '1oC3jlItfsUshd54KOR7yn9NxpR83iCbC'),\n",
    "    ('CN8_Non-EU_cod_2015.csv', '1H54-FYrCFa1DylCBg38RAPAeCtkGq4la'),\n",
    "    ('CN8_Non-EU_cod_2016.csv', '11fLsnoiWzTcA1d3nSDWvyrKQEHwIf6Hz')\n",
    "]\n",
    "\n",
    "for filename, google_id in sources:\n",
    "    sourceFile = sourceFolder / filename\n",
    "    sourceUrl = f'https://drive.google.com/uc?export=download&id={google_id}'\n",
    "\n",
    "    if not (sourceFile.exists() and sourceFile.is_file()):\n",
    "        response = requests.get(sourceUrl)\n",
    "        with open(sourceFile, 'wb') as f:\n",
    "            f.write(response.content)\n",
    "    provSources.append({\n",
    "        '@id': sourceUrl,\n",
    "        '@type': 'entity',\n",
    "        'label': filename,\n",
    "        'wasUsedBy': provActivity['@id']\n",
    "    })"
   ]
  },
  {
   "cell_type": "code",
   "execution_count": 3,
   "metadata": {},
   "outputs": [
    {
     "data": {
      "text/html": [
       "<div>\n",
       "<style scoped>\n",
       "    .dataframe tbody tr th:only-of-type {\n",
       "        vertical-align: middle;\n",
       "    }\n",
       "\n",
       "    .dataframe tbody tr th {\n",
       "        vertical-align: top;\n",
       "    }\n",
       "\n",
       "    .dataframe thead th {\n",
       "        text-align: right;\n",
       "    }\n",
       "</style>\n",
       "<table border=\"1\" class=\"dataframe\">\n",
       "  <thead>\n",
       "    <tr style=\"text-align: right;\">\n",
       "      <th></th>\n",
       "      <th>year</th>\n",
       "      <th>flow</th>\n",
       "      <th>comcode</th>\n",
       "      <th>country</th>\n",
       "      <th>svalue</th>\n",
       "    </tr>\n",
       "  </thead>\n",
       "  <tbody>\n",
       "    <tr>\n",
       "      <th>0</th>\n",
       "      <td>2012</td>\n",
       "      <td>e</td>\n",
       "      <td>01012100</td>\n",
       "      <td>Norway</td>\n",
       "      <td>1773490</td>\n",
       "    </tr>\n",
       "    <tr>\n",
       "      <th>1</th>\n",
       "      <td>2012</td>\n",
       "      <td>e</td>\n",
       "      <td>01012100</td>\n",
       "      <td>Switzerland</td>\n",
       "      <td>69378</td>\n",
       "    </tr>\n",
       "    <tr>\n",
       "      <th>2</th>\n",
       "      <td>2012</td>\n",
       "      <td>e</td>\n",
       "      <td>01012100</td>\n",
       "      <td>Turkey</td>\n",
       "      <td>406337</td>\n",
       "    </tr>\n",
       "    <tr>\n",
       "      <th>3</th>\n",
       "      <td>2012</td>\n",
       "      <td>e</td>\n",
       "      <td>01012100</td>\n",
       "      <td>Ukraine</td>\n",
       "      <td>49903</td>\n",
       "    </tr>\n",
       "    <tr>\n",
       "      <th>4</th>\n",
       "      <td>2012</td>\n",
       "      <td>e</td>\n",
       "      <td>01012100</td>\n",
       "      <td>Serbia</td>\n",
       "      <td>32550</td>\n",
       "    </tr>\n",
       "  </tbody>\n",
       "</table>\n",
       "</div>"
      ],
      "text/plain": [
       "   year flow   comcode      country   svalue\n",
       "0  2012    e  01012100       Norway  1773490\n",
       "1  2012    e  01012100  Switzerland    69378\n",
       "2  2012    e  01012100       Turkey   406337\n",
       "3  2012    e  01012100      Ukraine    49903\n",
       "4  2012    e  01012100       Serbia    32550"
      ]
     },
     "execution_count": 3,
     "metadata": {},
     "output_type": "execute_result"
    }
   ],
   "source": [
    "import pandas\n",
    "pandas.read_csv(sourceFolder / sources[0][0], dtype={'comcode': str}).head()"
   ]
  },
  {
   "cell_type": "markdown",
   "metadata": {},
   "source": [
    "The table2qb utility requires that the input CSV look like:\n",
    "\n",
    "```Year,Flow,Commodity,Foreign Country,Measure Type,Unit,Value\n",
    "2012,Export,28399000,Singapore,GBP Total,£ million,35275\n",
    "2012,Export,42050011,Ghana,GBP Total,£ million,1709\n",
    "2012,Export,85049018,Israel,GBP Total,£ million,13205\n",
    "2012,Import,73269060,Hong Kong,GBP Total,£ million,2414```"
   ]
  },
  {
   "cell_type": "code",
   "execution_count": 4,
   "metadata": {},
   "outputs": [
    {
     "ename": "AttributeError",
     "evalue": "'NoneType' object has no attribute 'to_csv'",
     "output_type": "error",
     "traceback": [
      "\u001b[0;31m---------------------------------------------------------------------------\u001b[0m",
      "\u001b[0;31mAttributeError\u001b[0m                            Traceback (most recent call last)",
      "\u001b[0;32m<ipython-input-4-a92f3c0f8f5f>\u001b[0m in \u001b[0;36m<module>\u001b[0;34m()\u001b[0m\n\u001b[1;32m     16\u001b[0m \u001b[0mcountries\u001b[0m\u001b[0;34m.\u001b[0m\u001b[0mupdate\u001b[0m\u001b[0;34m(\u001b[0m\u001b[0mtable\u001b[0m\u001b[0;34m[\u001b[0m\u001b[0;34m'Foreign Country'\u001b[0m\u001b[0;34m]\u001b[0m\u001b[0;34m)\u001b[0m\u001b[0;34m\u001b[0m\u001b[0m\n\u001b[1;32m     17\u001b[0m \u001b[0mdestFile\u001b[0m \u001b[0;34m=\u001b[0m \u001b[0mdestFolder\u001b[0m \u001b[0;34m/\u001b[0m \u001b[0;34m'CN8_Non-EU_cod_2012-2016.csv'\u001b[0m\u001b[0;34m\u001b[0m\u001b[0m\n\u001b[0;32m---> 18\u001b[0;31m \u001b[0mtable\u001b[0m\u001b[0;34m.\u001b[0m\u001b[0msample\u001b[0m\u001b[0;34m(\u001b[0m\u001b[0mn\u001b[0m\u001b[0;34m=\u001b[0m\u001b[0;36m100000\u001b[0m\u001b[0;34m,\u001b[0m \u001b[0mrandom_state\u001b[0m\u001b[0;34m=\u001b[0m\u001b[0;36m149\u001b[0m\u001b[0;34m)\u001b[0m\u001b[0;34m.\u001b[0m\u001b[0mto_csv\u001b[0m\u001b[0;34m(\u001b[0m\u001b[0mdestFile\u001b[0m\u001b[0;34m,\u001b[0m \u001b[0mindex\u001b[0m\u001b[0;34m=\u001b[0m\u001b[0;32mFalse\u001b[0m\u001b[0;34m)\u001b[0m\u001b[0;34m.\u001b[0m\u001b[0mto_csv\u001b[0m\u001b[0;34m(\u001b[0m\u001b[0mdestFile\u001b[0m\u001b[0;34m,\u001b[0m \u001b[0mindex\u001b[0m\u001b[0;34m=\u001b[0m\u001b[0;32mFalse\u001b[0m\u001b[0;34m)\u001b[0m\u001b[0;34m\u001b[0m\u001b[0m\n\u001b[0m\u001b[1;32m     19\u001b[0m \u001b[0;31m#table.to_csv(destFile, index=False)\u001b[0m\u001b[0;34m\u001b[0m\u001b[0;34m\u001b[0m\u001b[0m\n\u001b[1;32m     20\u001b[0m \u001b[0mprovOutputs\u001b[0m\u001b[0;34m.\u001b[0m\u001b[0mappend\u001b[0m\u001b[0;34m(\u001b[0m\u001b[0;34m(\u001b[0m\u001b[0mdestFile\u001b[0m\u001b[0;34m,\u001b[0m \u001b[0;34m'CN8_Non-EU_cod-2012-2016 table'\u001b[0m\u001b[0;34m)\u001b[0m\u001b[0;34m)\u001b[0m\u001b[0;34m\u001b[0m\u001b[0m\n",
      "\u001b[0;31mAttributeError\u001b[0m: 'NoneType' object has no attribute 'to_csv'"
     ]
    }
   ],
   "source": [
    "destFolder = Path('out')\n",
    "destFolder.mkdir(exist_ok=True, parents=True)\n",
    "\n",
    "countries = set()\n",
    "provOutputs = []\n",
    "\n",
    "table = pandas.concat([pandas.read_csv(sourceFolder / filename, dtype={'comcode': str})\n",
    "                       for filename, google_id in sources], ignore_index=True).rename(\n",
    "    index = str,\n",
    "    columns = {'year': 'Year', 'flow': 'Flow', 'comcode': 'Commodity',\n",
    "               'country': 'Foreign Country', 'svalue': 'Value'})\n",
    "table['Measure Type'] = 'GBP Total'\n",
    "table['Unit'] = '£ million'\n",
    "table['Flow'] = table['Flow'].map(lambda x: {'i': 'Import', 'e': 'Export'}[x])\n",
    "table = table[['Year', 'Flow', 'Commodity', 'Foreign Country', 'Measure Type', 'Unit', 'Value']]\n",
    "countries.update(table['Foreign Country'])\n",
    "destFile = destFolder / 'CN8_Non-EU_cod_2012-2016.csv'\n",
    "table.sample(n=100000, random_state=149).to_csv(destFile, index=False)\n",
    "#table.to_csv(destFile, index=False)\n",
    "provOutputs.append((destFile, 'CN8_Non-EU_cod-2012-2016 table'))\n",
    "table.head()"
   ]
  },
  {
   "cell_type": "markdown",
   "metadata": {},
   "source": [
    "table2qb further requires strings that will form URIs to be formatted for use as (RDF) identifiers and the bijection to be output as another CSV file. In this case, we currently need a countries.csv file along the following lines:\n",
    "\n",
    "```Label,Notation,Parent Notation\n",
    "Australia,australia,\n",
    "Chile,chile,\n",
    "Falkland Islands,falkland-islands,\n",
    "French Polynesia,french-polynesia,\n",
    "Ghana,ghana,\n",
    "Hong Kong,hong-kong,```"
   ]
  },
  {
   "cell_type": "code",
   "execution_count": null,
   "metadata": {},
   "outputs": [],
   "source": [
    "countriesTable = pandas.DataFrame(data={'Label': sorted(list(countries))})\n",
    "countriesTable['Notation'] = countriesTable['Label'].map(lambda x: x.lower().replace('&', 'and').replace(' ', '-'))\n",
    "countriesTable['Parent Notation'] = ''\n",
    "countriesTable"
   ]
  },
  {
   "cell_type": "code",
   "execution_count": null,
   "metadata": {},
   "outputs": [],
   "source": [
    "countriesTable.to_csv(destFolder / 'countries.csv', index=False)\n",
    "provOutputs.append((destFolder / 'countries.csv', 'countries table'))"
   ]
  },
  {
   "cell_type": "markdown",
   "metadata": {},
   "source": [
    "Finally, output the PROV metadata as JSON-LD. This goes to the 'out' folder."
   ]
  },
  {
   "cell_type": "code",
   "execution_count": null,
   "metadata": {},
   "outputs": [],
   "source": [
    "metadataDir = Path('metadata')\n",
    "with open(metadataDir / 'prov_context.json') as contextFile:\n",
    "    context = json.load(contextFile)\n",
    "\n",
    "provActivity['endedAtTime'] = datetime.now(timezone('Europe/London')).isoformat()\n",
    "prov = {\n",
    "    '@context': context,\n",
    "    '@graph': [ provActivity ] + provSources + [\n",
    "        {\n",
    "            '@id': environ.get('BUILD_URL', 'unknown-build') + 'artifact/' + str(filename),\n",
    "            '@type': 'entity',\n",
    "            'wasGeneratedBy': provActivity['@id'],\n",
    "            'label': label\n",
    "        } for (filename, label) in provOutputs\n",
    "    ]\n",
    "}\n",
    "\n",
    "with open(destFolder / 'prov.jsonld', 'w') as provFile:\n",
    "    json.dump(prov, provFile, indent=2)"
   ]
  },
  {
   "cell_type": "code",
   "execution_count": null,
   "metadata": {},
   "outputs": [],
   "source": []
  }
 ],
 "metadata": {
  "kernelspec": {
   "display_name": "Python 3",
   "language": "python",
   "name": "python3"
  },
  "language_info": {
   "codemirror_mode": {
    "name": "ipython",
    "version": 3
   },
   "file_extension": ".py",
   "mimetype": "text/x-python",
   "name": "python",
   "nbconvert_exporter": "python",
   "pygments_lexer": "ipython3",
   "version": "3.6.5"
  }
 },
 "nbformat": 4,
 "nbformat_minor": 2
}
